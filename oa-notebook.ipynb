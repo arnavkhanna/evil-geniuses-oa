{
    "cells": [
        {
            "cell_type": "code",
            "execution_count": 110,
            "source": [
                "import numpy as np\n",
                "import pandas as pd\n",
                "from sklearn.model_selection import train_test_split\n",
                "from sklearn.neighbors import KNeighborsClassifier\n",
                "from sklearn.linear_model import LogisticRegression\n",
                "from sklearn.naive_bayes import GaussianNB\n",
                "from sklearn.tree import DecisionTreeClassifier\n",
                "from sklearn.ensemble import RandomForestClassifier"
            ],
            "outputs": [],
            "metadata": {}
        },
        {
            "cell_type": "code",
            "execution_count": 41,
            "source": [
                "df = pd.read_csv(\"starcraft_player_data.csv\")\n",
                "df.head()"
            ],
            "outputs": [
                {
                    "output_type": "execute_result",
                    "data": {
                        "text/plain": [
                            "   GameID  LeagueIndex Age HoursPerWeek TotalHours       APM  SelectByHotkeys  \\\n",
                            "0      52            5  27           10       3000  143.7180         0.003515   \n",
                            "1      55            5  23           10       5000  129.2322         0.003304   \n",
                            "2      56            4  30           10        200   69.9612         0.001101   \n",
                            "3      57            3  19           20        400  107.6016         0.001034   \n",
                            "4      58            3  32           10        500  122.8908         0.001136   \n",
                            "\n",
                            "   AssignToHotkeys  UniqueHotkeys  MinimapAttacks  MinimapRightClicks  \\\n",
                            "0         0.000220              7        0.000110            0.000392   \n",
                            "1         0.000259              4        0.000294            0.000432   \n",
                            "2         0.000336              4        0.000294            0.000461   \n",
                            "3         0.000213              1        0.000053            0.000543   \n",
                            "4         0.000327              2        0.000000            0.001329   \n",
                            "\n",
                            "   NumberOfPACs  GapBetweenPACs  ActionLatency  ActionsInPAC  \\\n",
                            "0      0.004849         32.6677        40.8673        4.7508   \n",
                            "1      0.004307         32.9194        42.3454        4.8434   \n",
                            "2      0.002926         44.6475        75.3548        4.0430   \n",
                            "3      0.003783         29.2203        53.7352        4.9155   \n",
                            "4      0.002368         22.6885        62.0813        9.3740   \n",
                            "\n",
                            "   TotalMapExplored  WorkersMade  UniqueUnitsMade  ComplexUnitsMade  \\\n",
                            "0                28     0.001397                6               0.0   \n",
                            "1                22     0.001193                5               0.0   \n",
                            "2                22     0.000745                6               0.0   \n",
                            "3                19     0.000426                7               0.0   \n",
                            "4                15     0.001174                4               0.0   \n",
                            "\n",
                            "   ComplexAbilitiesUsed  \n",
                            "0              0.000000  \n",
                            "1              0.000208  \n",
                            "2              0.000189  \n",
                            "3              0.000384  \n",
                            "4              0.000019  "
                        ],
                        "text/html": [
                            "<div>\n",
                            "<style scoped>\n",
                            "    .dataframe tbody tr th:only-of-type {\n",
                            "        vertical-align: middle;\n",
                            "    }\n",
                            "\n",
                            "    .dataframe tbody tr th {\n",
                            "        vertical-align: top;\n",
                            "    }\n",
                            "\n",
                            "    .dataframe thead th {\n",
                            "        text-align: right;\n",
                            "    }\n",
                            "</style>\n",
                            "<table border=\"1\" class=\"dataframe\">\n",
                            "  <thead>\n",
                            "    <tr style=\"text-align: right;\">\n",
                            "      <th></th>\n",
                            "      <th>GameID</th>\n",
                            "      <th>LeagueIndex</th>\n",
                            "      <th>Age</th>\n",
                            "      <th>HoursPerWeek</th>\n",
                            "      <th>TotalHours</th>\n",
                            "      <th>APM</th>\n",
                            "      <th>SelectByHotkeys</th>\n",
                            "      <th>AssignToHotkeys</th>\n",
                            "      <th>UniqueHotkeys</th>\n",
                            "      <th>MinimapAttacks</th>\n",
                            "      <th>MinimapRightClicks</th>\n",
                            "      <th>NumberOfPACs</th>\n",
                            "      <th>GapBetweenPACs</th>\n",
                            "      <th>ActionLatency</th>\n",
                            "      <th>ActionsInPAC</th>\n",
                            "      <th>TotalMapExplored</th>\n",
                            "      <th>WorkersMade</th>\n",
                            "      <th>UniqueUnitsMade</th>\n",
                            "      <th>ComplexUnitsMade</th>\n",
                            "      <th>ComplexAbilitiesUsed</th>\n",
                            "    </tr>\n",
                            "  </thead>\n",
                            "  <tbody>\n",
                            "    <tr>\n",
                            "      <th>0</th>\n",
                            "      <td>52</td>\n",
                            "      <td>5</td>\n",
                            "      <td>27</td>\n",
                            "      <td>10</td>\n",
                            "      <td>3000</td>\n",
                            "      <td>143.7180</td>\n",
                            "      <td>0.003515</td>\n",
                            "      <td>0.000220</td>\n",
                            "      <td>7</td>\n",
                            "      <td>0.000110</td>\n",
                            "      <td>0.000392</td>\n",
                            "      <td>0.004849</td>\n",
                            "      <td>32.6677</td>\n",
                            "      <td>40.8673</td>\n",
                            "      <td>4.7508</td>\n",
                            "      <td>28</td>\n",
                            "      <td>0.001397</td>\n",
                            "      <td>6</td>\n",
                            "      <td>0.0</td>\n",
                            "      <td>0.000000</td>\n",
                            "    </tr>\n",
                            "    <tr>\n",
                            "      <th>1</th>\n",
                            "      <td>55</td>\n",
                            "      <td>5</td>\n",
                            "      <td>23</td>\n",
                            "      <td>10</td>\n",
                            "      <td>5000</td>\n",
                            "      <td>129.2322</td>\n",
                            "      <td>0.003304</td>\n",
                            "      <td>0.000259</td>\n",
                            "      <td>4</td>\n",
                            "      <td>0.000294</td>\n",
                            "      <td>0.000432</td>\n",
                            "      <td>0.004307</td>\n",
                            "      <td>32.9194</td>\n",
                            "      <td>42.3454</td>\n",
                            "      <td>4.8434</td>\n",
                            "      <td>22</td>\n",
                            "      <td>0.001193</td>\n",
                            "      <td>5</td>\n",
                            "      <td>0.0</td>\n",
                            "      <td>0.000208</td>\n",
                            "    </tr>\n",
                            "    <tr>\n",
                            "      <th>2</th>\n",
                            "      <td>56</td>\n",
                            "      <td>4</td>\n",
                            "      <td>30</td>\n",
                            "      <td>10</td>\n",
                            "      <td>200</td>\n",
                            "      <td>69.9612</td>\n",
                            "      <td>0.001101</td>\n",
                            "      <td>0.000336</td>\n",
                            "      <td>4</td>\n",
                            "      <td>0.000294</td>\n",
                            "      <td>0.000461</td>\n",
                            "      <td>0.002926</td>\n",
                            "      <td>44.6475</td>\n",
                            "      <td>75.3548</td>\n",
                            "      <td>4.0430</td>\n",
                            "      <td>22</td>\n",
                            "      <td>0.000745</td>\n",
                            "      <td>6</td>\n",
                            "      <td>0.0</td>\n",
                            "      <td>0.000189</td>\n",
                            "    </tr>\n",
                            "    <tr>\n",
                            "      <th>3</th>\n",
                            "      <td>57</td>\n",
                            "      <td>3</td>\n",
                            "      <td>19</td>\n",
                            "      <td>20</td>\n",
                            "      <td>400</td>\n",
                            "      <td>107.6016</td>\n",
                            "      <td>0.001034</td>\n",
                            "      <td>0.000213</td>\n",
                            "      <td>1</td>\n",
                            "      <td>0.000053</td>\n",
                            "      <td>0.000543</td>\n",
                            "      <td>0.003783</td>\n",
                            "      <td>29.2203</td>\n",
                            "      <td>53.7352</td>\n",
                            "      <td>4.9155</td>\n",
                            "      <td>19</td>\n",
                            "      <td>0.000426</td>\n",
                            "      <td>7</td>\n",
                            "      <td>0.0</td>\n",
                            "      <td>0.000384</td>\n",
                            "    </tr>\n",
                            "    <tr>\n",
                            "      <th>4</th>\n",
                            "      <td>58</td>\n",
                            "      <td>3</td>\n",
                            "      <td>32</td>\n",
                            "      <td>10</td>\n",
                            "      <td>500</td>\n",
                            "      <td>122.8908</td>\n",
                            "      <td>0.001136</td>\n",
                            "      <td>0.000327</td>\n",
                            "      <td>2</td>\n",
                            "      <td>0.000000</td>\n",
                            "      <td>0.001329</td>\n",
                            "      <td>0.002368</td>\n",
                            "      <td>22.6885</td>\n",
                            "      <td>62.0813</td>\n",
                            "      <td>9.3740</td>\n",
                            "      <td>15</td>\n",
                            "      <td>0.001174</td>\n",
                            "      <td>4</td>\n",
                            "      <td>0.0</td>\n",
                            "      <td>0.000019</td>\n",
                            "    </tr>\n",
                            "  </tbody>\n",
                            "</table>\n",
                            "</div>"
                        ]
                    },
                    "metadata": {},
                    "execution_count": 41
                }
            ],
            "metadata": {}
        },
        {
            "cell_type": "code",
            "execution_count": 42,
            "source": [
                "df.isna().mean()"
            ],
            "outputs": [
                {
                    "output_type": "execute_result",
                    "data": {
                        "text/plain": [
                            "GameID                  0.0\n",
                            "LeagueIndex             0.0\n",
                            "Age                     0.0\n",
                            "HoursPerWeek            0.0\n",
                            "TotalHours              0.0\n",
                            "APM                     0.0\n",
                            "SelectByHotkeys         0.0\n",
                            "AssignToHotkeys         0.0\n",
                            "UniqueHotkeys           0.0\n",
                            "MinimapAttacks          0.0\n",
                            "MinimapRightClicks      0.0\n",
                            "NumberOfPACs            0.0\n",
                            "GapBetweenPACs          0.0\n",
                            "ActionLatency           0.0\n",
                            "ActionsInPAC            0.0\n",
                            "TotalMapExplored        0.0\n",
                            "WorkersMade             0.0\n",
                            "UniqueUnitsMade         0.0\n",
                            "ComplexUnitsMade        0.0\n",
                            "ComplexAbilitiesUsed    0.0\n",
                            "dtype: float64"
                        ]
                    },
                    "metadata": {},
                    "execution_count": 42
                }
            ],
            "metadata": {}
        },
        {
            "cell_type": "markdown",
            "source": [
                "There are no null values in the dataset. However, this doesn't mean there isn't missingness in the dataset. It could be represented in other ways than just being a null value. This being said, there is no use for the GameID column while using this dataset to predict rank. It is an ID for each game, and won't have any correlation with rank."
            ],
            "metadata": {}
        },
        {
            "cell_type": "code",
            "execution_count": 43,
            "source": [
                "df = df.drop(columns=['GameID'])\n",
                "df.describe()"
            ],
            "outputs": [
                {
                    "output_type": "execute_result",
                    "data": {
                        "text/plain": [
                            "       LeagueIndex          APM  SelectByHotkeys  AssignToHotkeys  \\\n",
                            "count  3395.000000  3395.000000      3395.000000      3395.000000   \n",
                            "mean      4.184094   117.046947         0.004299         0.000374   \n",
                            "std       1.517327    51.945291         0.005284         0.000225   \n",
                            "min       1.000000    22.059600         0.000000         0.000000   \n",
                            "25%       3.000000    79.900200         0.001258         0.000204   \n",
                            "50%       4.000000   108.010200         0.002500         0.000353   \n",
                            "75%       5.000000   142.790400         0.005133         0.000499   \n",
                            "max       8.000000   389.831400         0.043088         0.001752   \n",
                            "\n",
                            "       UniqueHotkeys  MinimapAttacks  MinimapRightClicks  NumberOfPACs  \\\n",
                            "count    3395.000000     3395.000000         3395.000000   3395.000000   \n",
                            "mean        4.364654        0.000098            0.000387      0.003463   \n",
                            "std         2.360333        0.000166            0.000377      0.000992   \n",
                            "min         0.000000        0.000000            0.000000      0.000679   \n",
                            "25%         3.000000        0.000000            0.000140      0.002754   \n",
                            "50%         4.000000        0.000040            0.000281      0.003395   \n",
                            "75%         6.000000        0.000119            0.000514      0.004027   \n",
                            "max        10.000000        0.003019            0.004041      0.007971   \n",
                            "\n",
                            "       GapBetweenPACs  ActionLatency  ActionsInPAC  TotalMapExplored  \\\n",
                            "count     3395.000000    3395.000000   3395.000000       3395.000000   \n",
                            "mean        40.361562      63.739403      5.272988         22.131664   \n",
                            "std         17.153570      19.238869      1.494835          7.431719   \n",
                            "min          6.666700      24.093600      2.038900          5.000000   \n",
                            "25%         28.957750      50.446600      4.272850         17.000000   \n",
                            "50%         36.723500      60.931800      5.095500         22.000000   \n",
                            "75%         48.290500      73.681300      6.033600         27.000000   \n",
                            "max        237.142900     176.372100     18.558100         58.000000   \n",
                            "\n",
                            "       WorkersMade  UniqueUnitsMade  ComplexUnitsMade  ComplexAbilitiesUsed  \n",
                            "count  3395.000000      3395.000000       3395.000000           3395.000000  \n",
                            "mean      0.001032         6.534021          0.000059              0.000142  \n",
                            "std       0.000519         1.857697          0.000111              0.000265  \n",
                            "min       0.000077         2.000000          0.000000              0.000000  \n",
                            "25%       0.000683         5.000000          0.000000              0.000000  \n",
                            "50%       0.000905         6.000000          0.000000              0.000020  \n",
                            "75%       0.001259         8.000000          0.000086              0.000181  \n",
                            "max       0.005149        13.000000          0.000902              0.003084  "
                        ],
                        "text/html": [
                            "<div>\n",
                            "<style scoped>\n",
                            "    .dataframe tbody tr th:only-of-type {\n",
                            "        vertical-align: middle;\n",
                            "    }\n",
                            "\n",
                            "    .dataframe tbody tr th {\n",
                            "        vertical-align: top;\n",
                            "    }\n",
                            "\n",
                            "    .dataframe thead th {\n",
                            "        text-align: right;\n",
                            "    }\n",
                            "</style>\n",
                            "<table border=\"1\" class=\"dataframe\">\n",
                            "  <thead>\n",
                            "    <tr style=\"text-align: right;\">\n",
                            "      <th></th>\n",
                            "      <th>LeagueIndex</th>\n",
                            "      <th>APM</th>\n",
                            "      <th>SelectByHotkeys</th>\n",
                            "      <th>AssignToHotkeys</th>\n",
                            "      <th>UniqueHotkeys</th>\n",
                            "      <th>MinimapAttacks</th>\n",
                            "      <th>MinimapRightClicks</th>\n",
                            "      <th>NumberOfPACs</th>\n",
                            "      <th>GapBetweenPACs</th>\n",
                            "      <th>ActionLatency</th>\n",
                            "      <th>ActionsInPAC</th>\n",
                            "      <th>TotalMapExplored</th>\n",
                            "      <th>WorkersMade</th>\n",
                            "      <th>UniqueUnitsMade</th>\n",
                            "      <th>ComplexUnitsMade</th>\n",
                            "      <th>ComplexAbilitiesUsed</th>\n",
                            "    </tr>\n",
                            "  </thead>\n",
                            "  <tbody>\n",
                            "    <tr>\n",
                            "      <th>count</th>\n",
                            "      <td>3395.000000</td>\n",
                            "      <td>3395.000000</td>\n",
                            "      <td>3395.000000</td>\n",
                            "      <td>3395.000000</td>\n",
                            "      <td>3395.000000</td>\n",
                            "      <td>3395.000000</td>\n",
                            "      <td>3395.000000</td>\n",
                            "      <td>3395.000000</td>\n",
                            "      <td>3395.000000</td>\n",
                            "      <td>3395.000000</td>\n",
                            "      <td>3395.000000</td>\n",
                            "      <td>3395.000000</td>\n",
                            "      <td>3395.000000</td>\n",
                            "      <td>3395.000000</td>\n",
                            "      <td>3395.000000</td>\n",
                            "      <td>3395.000000</td>\n",
                            "    </tr>\n",
                            "    <tr>\n",
                            "      <th>mean</th>\n",
                            "      <td>4.184094</td>\n",
                            "      <td>117.046947</td>\n",
                            "      <td>0.004299</td>\n",
                            "      <td>0.000374</td>\n",
                            "      <td>4.364654</td>\n",
                            "      <td>0.000098</td>\n",
                            "      <td>0.000387</td>\n",
                            "      <td>0.003463</td>\n",
                            "      <td>40.361562</td>\n",
                            "      <td>63.739403</td>\n",
                            "      <td>5.272988</td>\n",
                            "      <td>22.131664</td>\n",
                            "      <td>0.001032</td>\n",
                            "      <td>6.534021</td>\n",
                            "      <td>0.000059</td>\n",
                            "      <td>0.000142</td>\n",
                            "    </tr>\n",
                            "    <tr>\n",
                            "      <th>std</th>\n",
                            "      <td>1.517327</td>\n",
                            "      <td>51.945291</td>\n",
                            "      <td>0.005284</td>\n",
                            "      <td>0.000225</td>\n",
                            "      <td>2.360333</td>\n",
                            "      <td>0.000166</td>\n",
                            "      <td>0.000377</td>\n",
                            "      <td>0.000992</td>\n",
                            "      <td>17.153570</td>\n",
                            "      <td>19.238869</td>\n",
                            "      <td>1.494835</td>\n",
                            "      <td>7.431719</td>\n",
                            "      <td>0.000519</td>\n",
                            "      <td>1.857697</td>\n",
                            "      <td>0.000111</td>\n",
                            "      <td>0.000265</td>\n",
                            "    </tr>\n",
                            "    <tr>\n",
                            "      <th>min</th>\n",
                            "      <td>1.000000</td>\n",
                            "      <td>22.059600</td>\n",
                            "      <td>0.000000</td>\n",
                            "      <td>0.000000</td>\n",
                            "      <td>0.000000</td>\n",
                            "      <td>0.000000</td>\n",
                            "      <td>0.000000</td>\n",
                            "      <td>0.000679</td>\n",
                            "      <td>6.666700</td>\n",
                            "      <td>24.093600</td>\n",
                            "      <td>2.038900</td>\n",
                            "      <td>5.000000</td>\n",
                            "      <td>0.000077</td>\n",
                            "      <td>2.000000</td>\n",
                            "      <td>0.000000</td>\n",
                            "      <td>0.000000</td>\n",
                            "    </tr>\n",
                            "    <tr>\n",
                            "      <th>25%</th>\n",
                            "      <td>3.000000</td>\n",
                            "      <td>79.900200</td>\n",
                            "      <td>0.001258</td>\n",
                            "      <td>0.000204</td>\n",
                            "      <td>3.000000</td>\n",
                            "      <td>0.000000</td>\n",
                            "      <td>0.000140</td>\n",
                            "      <td>0.002754</td>\n",
                            "      <td>28.957750</td>\n",
                            "      <td>50.446600</td>\n",
                            "      <td>4.272850</td>\n",
                            "      <td>17.000000</td>\n",
                            "      <td>0.000683</td>\n",
                            "      <td>5.000000</td>\n",
                            "      <td>0.000000</td>\n",
                            "      <td>0.000000</td>\n",
                            "    </tr>\n",
                            "    <tr>\n",
                            "      <th>50%</th>\n",
                            "      <td>4.000000</td>\n",
                            "      <td>108.010200</td>\n",
                            "      <td>0.002500</td>\n",
                            "      <td>0.000353</td>\n",
                            "      <td>4.000000</td>\n",
                            "      <td>0.000040</td>\n",
                            "      <td>0.000281</td>\n",
                            "      <td>0.003395</td>\n",
                            "      <td>36.723500</td>\n",
                            "      <td>60.931800</td>\n",
                            "      <td>5.095500</td>\n",
                            "      <td>22.000000</td>\n",
                            "      <td>0.000905</td>\n",
                            "      <td>6.000000</td>\n",
                            "      <td>0.000000</td>\n",
                            "      <td>0.000020</td>\n",
                            "    </tr>\n",
                            "    <tr>\n",
                            "      <th>75%</th>\n",
                            "      <td>5.000000</td>\n",
                            "      <td>142.790400</td>\n",
                            "      <td>0.005133</td>\n",
                            "      <td>0.000499</td>\n",
                            "      <td>6.000000</td>\n",
                            "      <td>0.000119</td>\n",
                            "      <td>0.000514</td>\n",
                            "      <td>0.004027</td>\n",
                            "      <td>48.290500</td>\n",
                            "      <td>73.681300</td>\n",
                            "      <td>6.033600</td>\n",
                            "      <td>27.000000</td>\n",
                            "      <td>0.001259</td>\n",
                            "      <td>8.000000</td>\n",
                            "      <td>0.000086</td>\n",
                            "      <td>0.000181</td>\n",
                            "    </tr>\n",
                            "    <tr>\n",
                            "      <th>max</th>\n",
                            "      <td>8.000000</td>\n",
                            "      <td>389.831400</td>\n",
                            "      <td>0.043088</td>\n",
                            "      <td>0.001752</td>\n",
                            "      <td>10.000000</td>\n",
                            "      <td>0.003019</td>\n",
                            "      <td>0.004041</td>\n",
                            "      <td>0.007971</td>\n",
                            "      <td>237.142900</td>\n",
                            "      <td>176.372100</td>\n",
                            "      <td>18.558100</td>\n",
                            "      <td>58.000000</td>\n",
                            "      <td>0.005149</td>\n",
                            "      <td>13.000000</td>\n",
                            "      <td>0.000902</td>\n",
                            "      <td>0.003084</td>\n",
                            "    </tr>\n",
                            "  </tbody>\n",
                            "</table>\n",
                            "</div>"
                        ]
                    },
                    "metadata": {},
                    "execution_count": 43
                }
            ],
            "metadata": {}
        },
        {
            "cell_type": "code",
            "execution_count": 44,
            "source": [
                "df.info()"
            ],
            "outputs": [
                {
                    "output_type": "stream",
                    "name": "stdout",
                    "text": [
                        "<class 'pandas.core.frame.DataFrame'>\n",
                        "RangeIndex: 3395 entries, 0 to 3394\n",
                        "Data columns (total 19 columns):\n",
                        " #   Column                Non-Null Count  Dtype  \n",
                        "---  ------                --------------  -----  \n",
                        " 0   LeagueIndex           3395 non-null   int64  \n",
                        " 1   Age                   3395 non-null   object \n",
                        " 2   HoursPerWeek          3395 non-null   object \n",
                        " 3   TotalHours            3395 non-null   object \n",
                        " 4   APM                   3395 non-null   float64\n",
                        " 5   SelectByHotkeys       3395 non-null   float64\n",
                        " 6   AssignToHotkeys       3395 non-null   float64\n",
                        " 7   UniqueHotkeys         3395 non-null   int64  \n",
                        " 8   MinimapAttacks        3395 non-null   float64\n",
                        " 9   MinimapRightClicks    3395 non-null   float64\n",
                        " 10  NumberOfPACs          3395 non-null   float64\n",
                        " 11  GapBetweenPACs        3395 non-null   float64\n",
                        " 12  ActionLatency         3395 non-null   float64\n",
                        " 13  ActionsInPAC          3395 non-null   float64\n",
                        " 14  TotalMapExplored      3395 non-null   int64  \n",
                        " 15  WorkersMade           3395 non-null   float64\n",
                        " 16  UniqueUnitsMade       3395 non-null   int64  \n",
                        " 17  ComplexUnitsMade      3395 non-null   float64\n",
                        " 18  ComplexAbilitiesUsed  3395 non-null   float64\n",
                        "dtypes: float64(12), int64(4), object(3)\n",
                        "memory usage: 504.1+ KB\n"
                    ]
                }
            ],
            "metadata": {}
        },
        {
            "cell_type": "code",
            "execution_count": 45,
            "source": [
                "df['Age'].unique()"
            ],
            "outputs": [
                {
                    "output_type": "execute_result",
                    "data": {
                        "text/plain": [
                            "array(['27', '23', '30', '19', '32', '21', '17', '20', '18', '16', '26',\n",
                            "       '38', '28', '25', '22', '29', '24', '35', '31', '33', '37', '40',\n",
                            "       '34', '43', '41', '36', '44', '39', '?'], dtype=object)"
                        ]
                    },
                    "metadata": {},
                    "execution_count": 45
                }
            ],
            "metadata": {}
        },
        {
            "cell_type": "markdown",
            "source": [
                "Although there are no null values in the dataset, they appear to be marked by '?.'"
            ],
            "metadata": {}
        },
        {
            "cell_type": "code",
            "execution_count": 46,
            "source": [
                "means = df.groupby('LeagueIndex').mean()\n",
                "for col in df.columns:\n",
                "    df[col] = df[col].replace('?', np.nan)"
            ],
            "outputs": [],
            "metadata": {}
        },
        {
            "cell_type": "code",
            "execution_count": 52,
            "source": [
                "df.isna().mean()"
            ],
            "outputs": [
                {
                    "output_type": "execute_result",
                    "data": {
                        "text/plain": [
                            "LeagueIndex             0.000000\n",
                            "Age                     0.016200\n",
                            "HoursPerWeek            0.016495\n",
                            "TotalHours              0.016789\n",
                            "APM                     0.000000\n",
                            "SelectByHotkeys         0.000000\n",
                            "AssignToHotkeys         0.000000\n",
                            "UniqueHotkeys           0.000000\n",
                            "MinimapAttacks          0.000000\n",
                            "MinimapRightClicks      0.000000\n",
                            "NumberOfPACs            0.000000\n",
                            "GapBetweenPACs          0.000000\n",
                            "ActionLatency           0.000000\n",
                            "ActionsInPAC            0.000000\n",
                            "TotalMapExplored        0.000000\n",
                            "WorkersMade             0.000000\n",
                            "UniqueUnitsMade         0.000000\n",
                            "ComplexUnitsMade        0.000000\n",
                            "ComplexAbilitiesUsed    0.000000\n",
                            "dtype: float64"
                        ]
                    },
                    "metadata": {},
                    "execution_count": 52
                }
            ],
            "metadata": {}
        },
        {
            "cell_type": "markdown",
            "source": [
                "Because the null values make up such a small portion of the data (<2%), we can drop the null values and continue to training our model."
            ],
            "metadata": {}
        },
        {
            "cell_type": "code",
            "execution_count": 53,
            "source": [
                "df = df.dropna()"
            ],
            "outputs": [],
            "metadata": {}
        },
        {
            "cell_type": "code",
            "execution_count": 54,
            "source": [
                "df.corr()"
            ],
            "outputs": [
                {
                    "output_type": "execute_result",
                    "data": {
                        "text/plain": [
                            "                      LeagueIndex       APM  SelectByHotkeys  AssignToHotkeys  \\\n",
                            "LeagueIndex              1.000000  0.624171         0.428637         0.487280   \n",
                            "APM                      0.624171  1.000000         0.814624         0.534134   \n",
                            "SelectByHotkeys          0.428637  0.814624         1.000000         0.450342   \n",
                            "AssignToHotkeys          0.487280  0.534134         0.450342         1.000000   \n",
                            "UniqueHotkeys            0.322415  0.335986         0.274030         0.402555   \n",
                            "MinimapAttacks           0.270526  0.218562         0.132723         0.205436   \n",
                            "MinimapRightClicks       0.206380  0.306392         0.107615         0.154998   \n",
                            "NumberOfPACs             0.589193  0.635248         0.360057         0.454480   \n",
                            "GapBetweenPACs          -0.537536 -0.567396        -0.273767        -0.377926   \n",
                            "ActionLatency           -0.659940 -0.722253        -0.390012        -0.461496   \n",
                            "ActionsInPAC             0.140303  0.402928         0.166964         0.091508   \n",
                            "TotalMapExplored         0.230347  0.239336         0.097397         0.201862   \n",
                            "WorkersMade              0.310452  0.377719         0.161404         0.197011   \n",
                            "UniqueUnitsMade          0.151933  0.122916         0.027628         0.149329   \n",
                            "ComplexUnitsMade         0.171190  0.161774         0.065467         0.169849   \n",
                            "ComplexAbilitiesUsed     0.156033  0.141060         0.063720         0.169048   \n",
                            "\n",
                            "                      UniqueHotkeys  MinimapAttacks  MinimapRightClicks  \\\n",
                            "LeagueIndex                0.322415        0.270526            0.206380   \n",
                            "APM                        0.335986        0.218562            0.306392   \n",
                            "SelectByHotkeys            0.274030        0.132723            0.107615   \n",
                            "AssignToHotkeys            0.402555        0.205436            0.154998   \n",
                            "UniqueHotkeys              1.000000        0.151029            0.124570   \n",
                            "MinimapAttacks             0.151029        1.000000            0.224683   \n",
                            "MinimapRightClicks         0.124570        0.224683            1.000000   \n",
                            "NumberOfPACs               0.353112        0.137745            0.143538   \n",
                            "GapBetweenPACs            -0.223745       -0.213330           -0.244542   \n",
                            "ActionLatency             -0.304583       -0.171464           -0.216644   \n",
                            "ActionsInPAC              -0.022227        0.133712            0.323707   \n",
                            "TotalMapExplored           0.267940        0.164110            0.173514   \n",
                            "WorkersMade                0.111319        0.082283            0.212464   \n",
                            "UniqueUnitsMade            0.233274        0.125035            0.154447   \n",
                            "ComplexUnitsMade           0.122352        0.052225            0.097992   \n",
                            "ComplexAbilitiesUsed       0.110004        0.042265            0.095659   \n",
                            "\n",
                            "                      NumberOfPACs  GapBetweenPACs  ActionLatency  \\\n",
                            "LeagueIndex               0.589193       -0.537536      -0.659940   \n",
                            "APM                       0.635248       -0.567396      -0.722253   \n",
                            "SelectByHotkeys           0.360057       -0.273767      -0.390012   \n",
                            "AssignToHotkeys           0.454480       -0.377926      -0.461496   \n",
                            "UniqueHotkeys             0.353112       -0.223745      -0.304583   \n",
                            "MinimapAttacks            0.137745       -0.213330      -0.171464   \n",
                            "MinimapRightClicks        0.143538       -0.244542      -0.216644   \n",
                            "NumberOfPACs              1.000000       -0.491407      -0.817162   \n",
                            "GapBetweenPACs           -0.491407        1.000000       0.680483   \n",
                            "ActionLatency            -0.817162        0.680483       1.000000   \n",
                            "ActionsInPAC             -0.242571       -0.310242      -0.106505   \n",
                            "TotalMapExplored          0.470955       -0.094693      -0.349350   \n",
                            "WorkersMade               0.282204       -0.237157      -0.313692   \n",
                            "UniqueUnitsMade           0.322181       -0.089708      -0.223191   \n",
                            "ComplexUnitsMade          0.196269       -0.082924      -0.198054   \n",
                            "ComplexAbilitiesUsed      0.177696       -0.092005      -0.189681   \n",
                            "\n",
                            "                      ActionsInPAC  TotalMapExplored  WorkersMade  \\\n",
                            "LeagueIndex               0.140303          0.230347     0.310452   \n",
                            "APM                       0.402928          0.239336     0.377719   \n",
                            "SelectByHotkeys           0.166964          0.097397     0.161404   \n",
                            "AssignToHotkeys           0.091508          0.201862     0.197011   \n",
                            "UniqueHotkeys            -0.022227          0.267940     0.111319   \n",
                            "MinimapAttacks            0.133712          0.164110     0.082283   \n",
                            "MinimapRightClicks        0.323707          0.173514     0.212464   \n",
                            "NumberOfPACs             -0.242571          0.470955     0.282204   \n",
                            "GapBetweenPACs           -0.310242         -0.094693    -0.237157   \n",
                            "ActionLatency            -0.106505         -0.349350    -0.313692   \n",
                            "ActionsInPAC              1.000000         -0.156688     0.253734   \n",
                            "TotalMapExplored         -0.156688          1.000000     0.131511   \n",
                            "WorkersMade               0.253734          0.131511     1.000000   \n",
                            "UniqueUnitsMade          -0.134873          0.575231     0.112389   \n",
                            "ComplexUnitsMade          0.054312          0.309039     0.203270   \n",
                            "ComplexAbilitiesUsed      0.053406          0.251355     0.104955   \n",
                            "\n",
                            "                      UniqueUnitsMade  ComplexUnitsMade  ComplexAbilitiesUsed  \n",
                            "LeagueIndex                  0.151933          0.171190              0.156033  \n",
                            "APM                          0.122916          0.161774              0.141060  \n",
                            "SelectByHotkeys              0.027628          0.065467              0.063720  \n",
                            "AssignToHotkeys              0.149329          0.169849              0.169048  \n",
                            "UniqueHotkeys                0.233274          0.122352              0.110004  \n",
                            "MinimapAttacks               0.125035          0.052225              0.042265  \n",
                            "MinimapRightClicks           0.154447          0.097992              0.095659  \n",
                            "NumberOfPACs                 0.322181          0.196269              0.177696  \n",
                            "GapBetweenPACs              -0.089708         -0.082924             -0.092005  \n",
                            "ActionLatency               -0.223191         -0.198054             -0.189681  \n",
                            "ActionsInPAC                -0.134873          0.054312              0.053406  \n",
                            "TotalMapExplored             0.575231          0.309039              0.251355  \n",
                            "WorkersMade                  0.112389          0.203270              0.104955  \n",
                            "UniqueUnitsMade              1.000000          0.382217              0.294409  \n",
                            "ComplexUnitsMade             0.382217          1.000000              0.620551  \n",
                            "ComplexAbilitiesUsed         0.294409          0.620551              1.000000  "
                        ],
                        "text/html": [
                            "<div>\n",
                            "<style scoped>\n",
                            "    .dataframe tbody tr th:only-of-type {\n",
                            "        vertical-align: middle;\n",
                            "    }\n",
                            "\n",
                            "    .dataframe tbody tr th {\n",
                            "        vertical-align: top;\n",
                            "    }\n",
                            "\n",
                            "    .dataframe thead th {\n",
                            "        text-align: right;\n",
                            "    }\n",
                            "</style>\n",
                            "<table border=\"1\" class=\"dataframe\">\n",
                            "  <thead>\n",
                            "    <tr style=\"text-align: right;\">\n",
                            "      <th></th>\n",
                            "      <th>LeagueIndex</th>\n",
                            "      <th>APM</th>\n",
                            "      <th>SelectByHotkeys</th>\n",
                            "      <th>AssignToHotkeys</th>\n",
                            "      <th>UniqueHotkeys</th>\n",
                            "      <th>MinimapAttacks</th>\n",
                            "      <th>MinimapRightClicks</th>\n",
                            "      <th>NumberOfPACs</th>\n",
                            "      <th>GapBetweenPACs</th>\n",
                            "      <th>ActionLatency</th>\n",
                            "      <th>ActionsInPAC</th>\n",
                            "      <th>TotalMapExplored</th>\n",
                            "      <th>WorkersMade</th>\n",
                            "      <th>UniqueUnitsMade</th>\n",
                            "      <th>ComplexUnitsMade</th>\n",
                            "      <th>ComplexAbilitiesUsed</th>\n",
                            "    </tr>\n",
                            "  </thead>\n",
                            "  <tbody>\n",
                            "    <tr>\n",
                            "      <th>LeagueIndex</th>\n",
                            "      <td>1.000000</td>\n",
                            "      <td>0.624171</td>\n",
                            "      <td>0.428637</td>\n",
                            "      <td>0.487280</td>\n",
                            "      <td>0.322415</td>\n",
                            "      <td>0.270526</td>\n",
                            "      <td>0.206380</td>\n",
                            "      <td>0.589193</td>\n",
                            "      <td>-0.537536</td>\n",
                            "      <td>-0.659940</td>\n",
                            "      <td>0.140303</td>\n",
                            "      <td>0.230347</td>\n",
                            "      <td>0.310452</td>\n",
                            "      <td>0.151933</td>\n",
                            "      <td>0.171190</td>\n",
                            "      <td>0.156033</td>\n",
                            "    </tr>\n",
                            "    <tr>\n",
                            "      <th>APM</th>\n",
                            "      <td>0.624171</td>\n",
                            "      <td>1.000000</td>\n",
                            "      <td>0.814624</td>\n",
                            "      <td>0.534134</td>\n",
                            "      <td>0.335986</td>\n",
                            "      <td>0.218562</td>\n",
                            "      <td>0.306392</td>\n",
                            "      <td>0.635248</td>\n",
                            "      <td>-0.567396</td>\n",
                            "      <td>-0.722253</td>\n",
                            "      <td>0.402928</td>\n",
                            "      <td>0.239336</td>\n",
                            "      <td>0.377719</td>\n",
                            "      <td>0.122916</td>\n",
                            "      <td>0.161774</td>\n",
                            "      <td>0.141060</td>\n",
                            "    </tr>\n",
                            "    <tr>\n",
                            "      <th>SelectByHotkeys</th>\n",
                            "      <td>0.428637</td>\n",
                            "      <td>0.814624</td>\n",
                            "      <td>1.000000</td>\n",
                            "      <td>0.450342</td>\n",
                            "      <td>0.274030</td>\n",
                            "      <td>0.132723</td>\n",
                            "      <td>0.107615</td>\n",
                            "      <td>0.360057</td>\n",
                            "      <td>-0.273767</td>\n",
                            "      <td>-0.390012</td>\n",
                            "      <td>0.166964</td>\n",
                            "      <td>0.097397</td>\n",
                            "      <td>0.161404</td>\n",
                            "      <td>0.027628</td>\n",
                            "      <td>0.065467</td>\n",
                            "      <td>0.063720</td>\n",
                            "    </tr>\n",
                            "    <tr>\n",
                            "      <th>AssignToHotkeys</th>\n",
                            "      <td>0.487280</td>\n",
                            "      <td>0.534134</td>\n",
                            "      <td>0.450342</td>\n",
                            "      <td>1.000000</td>\n",
                            "      <td>0.402555</td>\n",
                            "      <td>0.205436</td>\n",
                            "      <td>0.154998</td>\n",
                            "      <td>0.454480</td>\n",
                            "      <td>-0.377926</td>\n",
                            "      <td>-0.461496</td>\n",
                            "      <td>0.091508</td>\n",
                            "      <td>0.201862</td>\n",
                            "      <td>0.197011</td>\n",
                            "      <td>0.149329</td>\n",
                            "      <td>0.169849</td>\n",
                            "      <td>0.169048</td>\n",
                            "    </tr>\n",
                            "    <tr>\n",
                            "      <th>UniqueHotkeys</th>\n",
                            "      <td>0.322415</td>\n",
                            "      <td>0.335986</td>\n",
                            "      <td>0.274030</td>\n",
                            "      <td>0.402555</td>\n",
                            "      <td>1.000000</td>\n",
                            "      <td>0.151029</td>\n",
                            "      <td>0.124570</td>\n",
                            "      <td>0.353112</td>\n",
                            "      <td>-0.223745</td>\n",
                            "      <td>-0.304583</td>\n",
                            "      <td>-0.022227</td>\n",
                            "      <td>0.267940</td>\n",
                            "      <td>0.111319</td>\n",
                            "      <td>0.233274</td>\n",
                            "      <td>0.122352</td>\n",
                            "      <td>0.110004</td>\n",
                            "    </tr>\n",
                            "    <tr>\n",
                            "      <th>MinimapAttacks</th>\n",
                            "      <td>0.270526</td>\n",
                            "      <td>0.218562</td>\n",
                            "      <td>0.132723</td>\n",
                            "      <td>0.205436</td>\n",
                            "      <td>0.151029</td>\n",
                            "      <td>1.000000</td>\n",
                            "      <td>0.224683</td>\n",
                            "      <td>0.137745</td>\n",
                            "      <td>-0.213330</td>\n",
                            "      <td>-0.171464</td>\n",
                            "      <td>0.133712</td>\n",
                            "      <td>0.164110</td>\n",
                            "      <td>0.082283</td>\n",
                            "      <td>0.125035</td>\n",
                            "      <td>0.052225</td>\n",
                            "      <td>0.042265</td>\n",
                            "    </tr>\n",
                            "    <tr>\n",
                            "      <th>MinimapRightClicks</th>\n",
                            "      <td>0.206380</td>\n",
                            "      <td>0.306392</td>\n",
                            "      <td>0.107615</td>\n",
                            "      <td>0.154998</td>\n",
                            "      <td>0.124570</td>\n",
                            "      <td>0.224683</td>\n",
                            "      <td>1.000000</td>\n",
                            "      <td>0.143538</td>\n",
                            "      <td>-0.244542</td>\n",
                            "      <td>-0.216644</td>\n",
                            "      <td>0.323707</td>\n",
                            "      <td>0.173514</td>\n",
                            "      <td>0.212464</td>\n",
                            "      <td>0.154447</td>\n",
                            "      <td>0.097992</td>\n",
                            "      <td>0.095659</td>\n",
                            "    </tr>\n",
                            "    <tr>\n",
                            "      <th>NumberOfPACs</th>\n",
                            "      <td>0.589193</td>\n",
                            "      <td>0.635248</td>\n",
                            "      <td>0.360057</td>\n",
                            "      <td>0.454480</td>\n",
                            "      <td>0.353112</td>\n",
                            "      <td>0.137745</td>\n",
                            "      <td>0.143538</td>\n",
                            "      <td>1.000000</td>\n",
                            "      <td>-0.491407</td>\n",
                            "      <td>-0.817162</td>\n",
                            "      <td>-0.242571</td>\n",
                            "      <td>0.470955</td>\n",
                            "      <td>0.282204</td>\n",
                            "      <td>0.322181</td>\n",
                            "      <td>0.196269</td>\n",
                            "      <td>0.177696</td>\n",
                            "    </tr>\n",
                            "    <tr>\n",
                            "      <th>GapBetweenPACs</th>\n",
                            "      <td>-0.537536</td>\n",
                            "      <td>-0.567396</td>\n",
                            "      <td>-0.273767</td>\n",
                            "      <td>-0.377926</td>\n",
                            "      <td>-0.223745</td>\n",
                            "      <td>-0.213330</td>\n",
                            "      <td>-0.244542</td>\n",
                            "      <td>-0.491407</td>\n",
                            "      <td>1.000000</td>\n",
                            "      <td>0.680483</td>\n",
                            "      <td>-0.310242</td>\n",
                            "      <td>-0.094693</td>\n",
                            "      <td>-0.237157</td>\n",
                            "      <td>-0.089708</td>\n",
                            "      <td>-0.082924</td>\n",
                            "      <td>-0.092005</td>\n",
                            "    </tr>\n",
                            "    <tr>\n",
                            "      <th>ActionLatency</th>\n",
                            "      <td>-0.659940</td>\n",
                            "      <td>-0.722253</td>\n",
                            "      <td>-0.390012</td>\n",
                            "      <td>-0.461496</td>\n",
                            "      <td>-0.304583</td>\n",
                            "      <td>-0.171464</td>\n",
                            "      <td>-0.216644</td>\n",
                            "      <td>-0.817162</td>\n",
                            "      <td>0.680483</td>\n",
                            "      <td>1.000000</td>\n",
                            "      <td>-0.106505</td>\n",
                            "      <td>-0.349350</td>\n",
                            "      <td>-0.313692</td>\n",
                            "      <td>-0.223191</td>\n",
                            "      <td>-0.198054</td>\n",
                            "      <td>-0.189681</td>\n",
                            "    </tr>\n",
                            "    <tr>\n",
                            "      <th>ActionsInPAC</th>\n",
                            "      <td>0.140303</td>\n",
                            "      <td>0.402928</td>\n",
                            "      <td>0.166964</td>\n",
                            "      <td>0.091508</td>\n",
                            "      <td>-0.022227</td>\n",
                            "      <td>0.133712</td>\n",
                            "      <td>0.323707</td>\n",
                            "      <td>-0.242571</td>\n",
                            "      <td>-0.310242</td>\n",
                            "      <td>-0.106505</td>\n",
                            "      <td>1.000000</td>\n",
                            "      <td>-0.156688</td>\n",
                            "      <td>0.253734</td>\n",
                            "      <td>-0.134873</td>\n",
                            "      <td>0.054312</td>\n",
                            "      <td>0.053406</td>\n",
                            "    </tr>\n",
                            "    <tr>\n",
                            "      <th>TotalMapExplored</th>\n",
                            "      <td>0.230347</td>\n",
                            "      <td>0.239336</td>\n",
                            "      <td>0.097397</td>\n",
                            "      <td>0.201862</td>\n",
                            "      <td>0.267940</td>\n",
                            "      <td>0.164110</td>\n",
                            "      <td>0.173514</td>\n",
                            "      <td>0.470955</td>\n",
                            "      <td>-0.094693</td>\n",
                            "      <td>-0.349350</td>\n",
                            "      <td>-0.156688</td>\n",
                            "      <td>1.000000</td>\n",
                            "      <td>0.131511</td>\n",
                            "      <td>0.575231</td>\n",
                            "      <td>0.309039</td>\n",
                            "      <td>0.251355</td>\n",
                            "    </tr>\n",
                            "    <tr>\n",
                            "      <th>WorkersMade</th>\n",
                            "      <td>0.310452</td>\n",
                            "      <td>0.377719</td>\n",
                            "      <td>0.161404</td>\n",
                            "      <td>0.197011</td>\n",
                            "      <td>0.111319</td>\n",
                            "      <td>0.082283</td>\n",
                            "      <td>0.212464</td>\n",
                            "      <td>0.282204</td>\n",
                            "      <td>-0.237157</td>\n",
                            "      <td>-0.313692</td>\n",
                            "      <td>0.253734</td>\n",
                            "      <td>0.131511</td>\n",
                            "      <td>1.000000</td>\n",
                            "      <td>0.112389</td>\n",
                            "      <td>0.203270</td>\n",
                            "      <td>0.104955</td>\n",
                            "    </tr>\n",
                            "    <tr>\n",
                            "      <th>UniqueUnitsMade</th>\n",
                            "      <td>0.151933</td>\n",
                            "      <td>0.122916</td>\n",
                            "      <td>0.027628</td>\n",
                            "      <td>0.149329</td>\n",
                            "      <td>0.233274</td>\n",
                            "      <td>0.125035</td>\n",
                            "      <td>0.154447</td>\n",
                            "      <td>0.322181</td>\n",
                            "      <td>-0.089708</td>\n",
                            "      <td>-0.223191</td>\n",
                            "      <td>-0.134873</td>\n",
                            "      <td>0.575231</td>\n",
                            "      <td>0.112389</td>\n",
                            "      <td>1.000000</td>\n",
                            "      <td>0.382217</td>\n",
                            "      <td>0.294409</td>\n",
                            "    </tr>\n",
                            "    <tr>\n",
                            "      <th>ComplexUnitsMade</th>\n",
                            "      <td>0.171190</td>\n",
                            "      <td>0.161774</td>\n",
                            "      <td>0.065467</td>\n",
                            "      <td>0.169849</td>\n",
                            "      <td>0.122352</td>\n",
                            "      <td>0.052225</td>\n",
                            "      <td>0.097992</td>\n",
                            "      <td>0.196269</td>\n",
                            "      <td>-0.082924</td>\n",
                            "      <td>-0.198054</td>\n",
                            "      <td>0.054312</td>\n",
                            "      <td>0.309039</td>\n",
                            "      <td>0.203270</td>\n",
                            "      <td>0.382217</td>\n",
                            "      <td>1.000000</td>\n",
                            "      <td>0.620551</td>\n",
                            "    </tr>\n",
                            "    <tr>\n",
                            "      <th>ComplexAbilitiesUsed</th>\n",
                            "      <td>0.156033</td>\n",
                            "      <td>0.141060</td>\n",
                            "      <td>0.063720</td>\n",
                            "      <td>0.169048</td>\n",
                            "      <td>0.110004</td>\n",
                            "      <td>0.042265</td>\n",
                            "      <td>0.095659</td>\n",
                            "      <td>0.177696</td>\n",
                            "      <td>-0.092005</td>\n",
                            "      <td>-0.189681</td>\n",
                            "      <td>0.053406</td>\n",
                            "      <td>0.251355</td>\n",
                            "      <td>0.104955</td>\n",
                            "      <td>0.294409</td>\n",
                            "      <td>0.620551</td>\n",
                            "      <td>1.000000</td>\n",
                            "    </tr>\n",
                            "  </tbody>\n",
                            "</table>\n",
                            "</div>"
                        ]
                    },
                    "metadata": {},
                    "execution_count": 54
                }
            ],
            "metadata": {}
        },
        {
            "cell_type": "markdown",
            "source": [
                "The LeagueIndex column, which we are trying to predict, is most highly correlated with the following columns:\n",
                "- APM\n",
                "- AssignToHotkeys \n",
                "- NumberOfPACs \n",
                "- GapBetweenPACs\n",
                "- ActionLatency \n",
                "\n",
                "Other notably high correlations include:\n",
                "- APM x SelectByHotkeys\n",
                "- NumberOfPACs x Action Latency"
            ],
            "metadata": {}
        },
        {
            "cell_type": "markdown",
            "source": [
                "Let's start with our model. First, I'll split the data into train and test data. We'll do 2 sets of these, one for the highly correlated variables, and one for all of them."
            ],
            "metadata": {}
        },
        {
            "cell_type": "code",
            "execution_count": 67,
            "source": [
                "X = df[['Age', 'HoursPerWeek', 'TotalHours', 'APM',\n",
                "       'SelectByHotkeys', 'AssignToHotkeys', 'UniqueHotkeys', 'MinimapAttacks',\n",
                "       'MinimapRightClicks', 'NumberOfPACs', 'GapBetweenPACs', 'ActionLatency',\n",
                "       'ActionsInPAC', 'TotalMapExplored', 'WorkersMade', 'UniqueUnitsMade',\n",
                "       'ComplexUnitsMade', 'ComplexAbilitiesUsed']]\n",
                "y = df['LeagueIndex']\n",
                "\n",
                "X_corr = df[['APM', 'AssignToHotkeys', 'NumberOfPACs', 'GapBetweenPACs', 'ActionLatency']]"
            ],
            "outputs": [],
            "metadata": {}
        },
        {
            "cell_type": "code",
            "execution_count": 68,
            "source": [
                "X_train, X_test, y_train, y_test = train_test_split(X, y, test_size=0.2)\n",
                "X_train_1, X_test_1, y_train_1, y_test_1 = train_test_split(X_corr, y, test_size=0.2)"
            ],
            "outputs": [],
            "metadata": {}
        },
        {
            "cell_type": "markdown",
            "source": [
                "Let's also define an accuracy function"
            ],
            "metadata": {}
        },
        {
            "cell_type": "code",
            "execution_count": 77,
            "source": [
                "def acc(model, X, y):\n",
                "    return (model.predict(X) == y).mean()"
            ],
            "outputs": [],
            "metadata": {}
        },
        {
            "cell_type": "markdown",
            "source": [
                "Next, we'll be training a model and seeing how well it works. We'll start with the KNN algorithm. For simplicity, I'll be using sklearn's algorithm."
            ],
            "metadata": {}
        },
        {
            "cell_type": "code",
            "execution_count": 83,
            "source": [
                "knn = KNeighborsClassifier(n_neighbors=5)\n",
                "knn.fit(X_train, y_train)"
            ],
            "outputs": [
                {
                    "output_type": "execute_result",
                    "data": {
                        "text/plain": [
                            "KNeighborsClassifier()"
                        ]
                    },
                    "metadata": {},
                    "execution_count": 83
                }
            ],
            "metadata": {}
        },
        {
            "cell_type": "code",
            "execution_count": 85,
            "source": [
                "print(acc(knn, X_train, y_train))\n",
                "print(acc(knn, X_test, y_test))"
            ],
            "outputs": [
                {
                    "output_type": "stream",
                    "name": "stderr",
                    "text": [
                        "/opt/anaconda3/envs/dsc80/lib/python3.8/site-packages/sklearn/base.py:441: UserWarning: X does not have valid feature names, but KNeighborsClassifier was fitted with feature names\n",
                        "  warnings.warn(\n",
                        "/opt/anaconda3/envs/dsc80/lib/python3.8/site-packages/sklearn/neighbors/_classification.py:230: FutureWarning: Unlike other reduction functions (e.g. `skew`, `kurtosis`), the default behavior of `mode` typically preserves the axis it acts along. In SciPy 1.11.0, this behavior will change: the default value of `keepdims` will become False, the `axis` over which the statistic is taken will be eliminated, and the value None will no longer be accepted. Set `keepdims` to True or False to avoid this warning.\n",
                        "  mode, _ = stats.mode(_y[neigh_ind, k], axis=1)\n",
                        "/opt/anaconda3/envs/dsc80/lib/python3.8/site-packages/sklearn/base.py:441: UserWarning: X does not have valid feature names, but KNeighborsClassifier was fitted with feature names\n",
                        "  warnings.warn(\n"
                    ]
                },
                {
                    "output_type": "stream",
                    "name": "stdout",
                    "text": [
                        "0.547191011235955\n",
                        "0.35778443113772457\n"
                    ]
                },
                {
                    "output_type": "stream",
                    "name": "stderr",
                    "text": [
                        "/opt/anaconda3/envs/dsc80/lib/python3.8/site-packages/sklearn/neighbors/_classification.py:230: FutureWarning: Unlike other reduction functions (e.g. `skew`, `kurtosis`), the default behavior of `mode` typically preserves the axis it acts along. In SciPy 1.11.0, this behavior will change: the default value of `keepdims` will become False, the `axis` over which the statistic is taken will be eliminated, and the value None will no longer be accepted. Set `keepdims` to True or False to avoid this warning.\n",
                        "  mode, _ = stats.mode(_y[neigh_ind, k], axis=1)\n"
                    ]
                }
            ],
            "metadata": {}
        },
        {
            "cell_type": "markdown",
            "source": [
                "The accuracy of KNN is extremely low. Let's try it with just the highly correlated variables with LeagueIndex and see if the accuracy increases. Again, those are:\n",
                "- APM\n",
                "- AssignToHotkeys \n",
                "- NumberOfPACs \n",
                "- GapBetweenPACs\n",
                "- ActionLatency "
            ],
            "metadata": {}
        },
        {
            "cell_type": "code",
            "execution_count": 86,
            "source": [
                "knn1 = KNeighborsClassifier(n_neighbors=5)\n",
                "knn1.fit(X_train_1, y_train_1)\n",
                "print(acc(knn1, X_train_1, y_train_1))\n",
                "print(acc(knn1, X_test_1, y_test_1))\n"
            ],
            "outputs": [
                {
                    "output_type": "stream",
                    "name": "stdout",
                    "text": [
                        "0.5468164794007491\n",
                        "0.3008982035928144\n"
                    ]
                },
                {
                    "output_type": "stream",
                    "name": "stderr",
                    "text": [
                        "/opt/anaconda3/envs/dsc80/lib/python3.8/site-packages/sklearn/base.py:441: UserWarning: X does not have valid feature names, but KNeighborsClassifier was fitted with feature names\n",
                        "  warnings.warn(\n",
                        "/opt/anaconda3/envs/dsc80/lib/python3.8/site-packages/sklearn/neighbors/_classification.py:230: FutureWarning: Unlike other reduction functions (e.g. `skew`, `kurtosis`), the default behavior of `mode` typically preserves the axis it acts along. In SciPy 1.11.0, this behavior will change: the default value of `keepdims` will become False, the `axis` over which the statistic is taken will be eliminated, and the value None will no longer be accepted. Set `keepdims` to True or False to avoid this warning.\n",
                        "  mode, _ = stats.mode(_y[neigh_ind, k], axis=1)\n",
                        "/opt/anaconda3/envs/dsc80/lib/python3.8/site-packages/sklearn/base.py:441: UserWarning: X does not have valid feature names, but KNeighborsClassifier was fitted with feature names\n",
                        "  warnings.warn(\n",
                        "/opt/anaconda3/envs/dsc80/lib/python3.8/site-packages/sklearn/neighbors/_classification.py:230: FutureWarning: Unlike other reduction functions (e.g. `skew`, `kurtosis`), the default behavior of `mode` typically preserves the axis it acts along. In SciPy 1.11.0, this behavior will change: the default value of `keepdims` will become False, the `axis` over which the statistic is taken will be eliminated, and the value None will no longer be accepted. Set `keepdims` to True or False to avoid this warning.\n",
                        "  mode, _ = stats.mode(_y[neigh_ind, k], axis=1)\n"
                    ]
                }
            ],
            "metadata": {}
        },
        {
            "cell_type": "markdown",
            "source": [
                "The results are worse, from now, we'll be using all the variables. We'll be trying the following models and see which one best works with the given data:\n",
                "- Logistic Regression\n",
                "- Naive Bayes\n",
                "- Decision Tree\n",
                "- Random Forest"
            ],
            "metadata": {}
        },
        {
            "cell_type": "code",
            "execution_count": 72,
            "source": [
                "lr = LogisticRegression(multi_class='ovr', solver='liblinear')\n",
                "lr.fit(X_train, y_train)"
            ],
            "outputs": [
                {
                    "output_type": "execute_result",
                    "data": {
                        "text/plain": [
                            "LogisticRegression(multi_class='ovr', solver='liblinear')"
                        ]
                    },
                    "metadata": {},
                    "execution_count": 72
                }
            ],
            "metadata": {}
        },
        {
            "cell_type": "code",
            "execution_count": 89,
            "source": [
                "print(acc(lr, X_train, y_train))\n",
                "print(acc(lr, X_test, y_test))"
            ],
            "outputs": [
                {
                    "output_type": "stream",
                    "name": "stdout",
                    "text": [
                        "0.41048689138576777\n",
                        "0.344311377245509\n"
                    ]
                }
            ],
            "metadata": {}
        },
        {
            "cell_type": "markdown",
            "source": [
                "Onto the Naive Bayes classifier"
            ],
            "metadata": {}
        },
        {
            "cell_type": "code",
            "execution_count": 92,
            "source": [
                "nb = GaussianNB()\n",
                "nb.fit(X_train, y_train)"
            ],
            "outputs": [
                {
                    "output_type": "execute_result",
                    "data": {
                        "text/plain": [
                            "GaussianNB()"
                        ]
                    },
                    "metadata": {},
                    "execution_count": 92
                }
            ],
            "metadata": {}
        },
        {
            "cell_type": "code",
            "execution_count": 94,
            "source": [
                "print(acc(nb, X_train, y_train))\n",
                "print(acc(nb, X_test, y_test))"
            ],
            "outputs": [
                {
                    "output_type": "stream",
                    "name": "stdout",
                    "text": [
                        "0.3767790262172285\n",
                        "0.34880239520958084\n"
                    ]
                }
            ],
            "metadata": {}
        },
        {
            "cell_type": "markdown",
            "source": [
                "Onto the decision tree"
            ],
            "metadata": {}
        },
        {
            "cell_type": "code",
            "execution_count": 96,
            "source": [
                "dt = DecisionTreeClassifier()\n",
                "dt.fit(X_train, y_train)"
            ],
            "outputs": [
                {
                    "output_type": "execute_result",
                    "data": {
                        "text/plain": [
                            "DecisionTreeClassifier()"
                        ]
                    },
                    "metadata": {},
                    "execution_count": 96
                }
            ],
            "metadata": {}
        },
        {
            "cell_type": "code",
            "execution_count": 97,
            "source": [
                "print(acc(dt, X_train, y_train))\n",
                "print(acc(dt, X_test, y_test))"
            ],
            "outputs": [
                {
                    "output_type": "stream",
                    "name": "stdout",
                    "text": [
                        "1.0\n",
                        "0.33532934131736525\n"
                    ]
                }
            ],
            "metadata": {}
        },
        {
            "cell_type": "markdown",
            "source": [
                "Looks like this model overfit, let's try to fix that by controlling the max depth."
            ],
            "metadata": {}
        },
        {
            "cell_type": "code",
            "execution_count": 108,
            "source": [
                "dt1 = DecisionTreeClassifier(max_depth=8)\n",
                "dt1.fit(X_train, y_train)\n",
                "print(acc(dt1, X_train, y_train))\n",
                "print(acc(dt1, X_test, y_test))"
            ],
            "outputs": [
                {
                    "output_type": "stream",
                    "name": "stdout",
                    "text": [
                        "0.602996254681648\n",
                        "0.38023952095808383\n"
                    ]
                }
            ],
            "metadata": {}
        },
        {
            "cell_type": "markdown",
            "source": [
                "Although, cross validation is best practice, I've always found testing by hand to be much more efficient. After testing, a depth of 8 is the best. Although the test accuracy isn't great, it's the best so far. Onto the random forest now."
            ],
            "metadata": {}
        },
        {
            "cell_type": "code",
            "execution_count": 131,
            "source": [
                "rf = RandomForestClassifier()\n",
                "rf.fit(X_train, y_train)\n",
                "print(acc(rf, X_train, y_train))\n",
                "print(acc(rf, X_test, y_test))"
            ],
            "outputs": [
                {
                    "output_type": "stream",
                    "name": "stdout",
                    "text": [
                        "1.0\n",
                        "0.4236526946107784\n"
                    ]
                }
            ],
            "metadata": {}
        },
        {
            "cell_type": "markdown",
            "source": [
                "The best test accuracy so far, let's see if we can optimize this by playing with the max depth for the classifier."
            ],
            "metadata": {}
        },
        {
            "cell_type": "code",
            "execution_count": 137,
            "source": [
                "rf1 = RandomForestClassifier(max_depth=11)\n",
                "rf1.fit(X_train, y_train)\n",
                "print(acc(rf1, X_train, y_train))\n",
                "print(acc(rf1, X_test, y_test))"
            ],
            "outputs": [
                {
                    "output_type": "stream",
                    "name": "stdout",
                    "text": [
                        "0.9794007490636704\n",
                        "0.4086826347305389\n"
                    ]
                }
            ],
            "metadata": {}
        },
        {
            "cell_type": "markdown",
            "source": [
                "The randomness of random forests makes the results slightly unreliable. Let's test and find an average of the test accuracy."
            ],
            "metadata": {}
        },
        {
            "cell_type": "code",
            "execution_count": null,
            "source": [
                "control = 0\n",
                "acc1 = 0\n",
                "for i in range(5):\n",
                "    rf.fit(X_train, y_train)\n",
                "    rf1.fit(X_train, y_train)"
            ],
            "outputs": [],
            "metadata": {}
        }
    ],
    "metadata": {
        "orig_nbformat": 4,
        "language_info": {
            "name": "python",
            "version": "3.8.13",
            "mimetype": "text/x-python",
            "codemirror_mode": {
                "name": "ipython",
                "version": 3
            },
            "pygments_lexer": "ipython3",
            "nbconvert_exporter": "python",
            "file_extension": ".py"
        },
        "kernelspec": {
            "name": "python3",
            "display_name": "Python 3.8.13 64-bit ('dsc80': conda)"
        },
        "interpreter": {
            "hash": "1331823d4e3cf5839f542a14a2cc977a769b2131b4f6807202dd15d6322690c6"
        }
    },
    "nbformat": 4,
    "nbformat_minor": 2
}